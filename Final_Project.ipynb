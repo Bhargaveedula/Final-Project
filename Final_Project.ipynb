{
  "nbformat": 4,
  "nbformat_minor": 0,
  "metadata": {
    "colab": {
      "name": "Final Project.ipynb",
      "provenance": [],
      "authorship_tag": "ABX9TyP2MkZfWOQY1KZmmzJEtVPZ",
      "include_colab_link": true
    },
    "kernelspec": {
      "name": "python3",
      "display_name": "Python 3"
    },
    "language_info": {
      "name": "python"
    }
  },
  "cells": [
    {
      "cell_type": "markdown",
      "metadata": {
        "id": "view-in-github",
        "colab_type": "text"
      },
      "source": [
        "<a href=\"https://colab.research.google.com/github/Bhargaveedula/Final-Project/blob/main/Final_Project.ipynb\" target=\"_parent\"><img src=\"https://colab.research.google.com/assets/colab-badge.svg\" alt=\"Open In Colab\"/></a>"
      ]
    },
    {
      "cell_type": "code",
      "metadata": {
        "colab": {
          "base_uri": "https://localhost:8080/"
        },
        "id": "8LwQkLRNyJS6",
        "outputId": "5b52a198-3259-4ea6-d733-b8c82d5bc99c"
      },
      "source": [
        "celsius=float(input('Enter temperature in celsius:'))\n",
        "fahrenheit=(celsius*1.8)+32\n",
        "print('%0.1f celsius is equal to %0.1f fahrenheit'%(celsius,fahrenheit))"
      ],
      "execution_count": 1,
      "outputs": [
        {
          "output_type": "stream",
          "text": [
            "Enter temperature in celsius:50\n",
            "50.0 celsius is equal to 122.0 fahrenheit\n"
          ],
          "name": "stdout"
        }
      ]
    },
    {
      "cell_type": "code",
      "metadata": {
        "id": "ipPY3Zr7zGhA"
      },
      "source": [
        ""
      ],
      "execution_count": null,
      "outputs": []
    }
  ]
}